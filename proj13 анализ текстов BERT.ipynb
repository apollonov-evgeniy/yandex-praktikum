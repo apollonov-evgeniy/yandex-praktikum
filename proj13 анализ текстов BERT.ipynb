{
 "cells": [
  {
   "cell_type": "markdown",
   "metadata": {
    "id": "k0EpuYIZXAzq"
   },
   "source": [
    "Привет, меня зовут Артем Хуршудов. Сегодня я проверю твой проект.\n",
    "<br> Дальнейшее общение будет происходить на \"ты\" если это не вызывает никаких проблем.\n",
    "<br> Желательно реагировать на каждый мой комментарий ('исправил', 'не понятно как исправить ошибку', ...)\n",
    "<br> Пожалуйста, не удаляй комментарии ревьюера, так как они повышают качество повторного ревью.\n",
    "\n",
    "Комментарии будут в <font color='green'>зеленой</font>, <font color='blue'>синей</font> или <font color='red'>красной</font> рамках:\n",
    "\n",
    "<div class=\"alert alert-block alert-success\">\n",
    "<b>Успех:</b> Если все сделано отлично\n",
    "</div>\n",
    "\n",
    "<div class=\"alert alert-block alert-info\">\n",
    "<b>Совет: </b> Если можно немного улучшить\n",
    "</div>\n",
    "\n",
    "<div class=\"alert alert-block alert-danger\">\n",
    "<b>Ошибка:</b> Если требуются исправления. Работа не может быть принята с красными комментариями.\n",
    "</div>\n",
    "\n",
    "-------------------\n",
    "\n",
    "Будет очень хорошо, если ты будешь помечать свои действия следующим образом:\n",
    "<div class=\"alert alert-block alert-warning\">\n",
    "<b>Комментарий студента:</b> ...\n",
    "</div>\n",
    "\n",
    "<div class=\"alert alert-block alert-warning\">\n",
    "<b>Изменения:</b> Были внесены следующие изменения ...\n",
    "</div>\n",
    "\n",
    "### <font color='orange'>Общее впечатление</font>\n",
    "* Большое спасибо за усилия приложенные к выполнению проекта.\n",
    "* Радует, что ноутбук хорошо структурирован. Приятно проверять такие работы.\n",
    "* Над этим проектом придется еще немного поработать. Однако, изменения не должны занять много времени.\n",
    "* С радостью отвечу на твои вопросы, если они есть. Лучше всего их собрать в следующей ячейке. Жду новую версию проекта."
   ]
  },
  {
   "cell_type": "markdown",
   "metadata": {
    "id": "7zzuVdW3HMZo"
   },
   "source": [
    "<div class=\"alert alert-block alert-warning\">\n",
    "<b>Изменения:</b> Были внесены следующие изменения \n",
    "    \n",
    "    Просчитано на colab с использованием GPU вся выборка. Ниже исправлены ошибки по разбивке и поставлены в коментарии\n",
    "    Посчитал по ограниченной выборке, решил запустить на GPU все данные\n",
    "    наткнулся на ошибку, выскакивала после час расчетов. Исправил, там где расчет с batch_size\n",
    "    Получились странные результаты при работе на полной выборке. Из-за объема данных не запустить тюнинг моделей\n",
    "\n",
    "Вопросы по БЕРТу\n",
    "    \n",
    "input_ids = torch.tensor(padded)  \n",
    "attention_mask = torch.tensor(attention_mask)  \n",
    "\n",
    "with torch.no_grad():   \n",
    "__________last_hidden_states = model(input_ids, attention_mask=attention_mask)   \n",
    "__________features = last_hidden_states[0][:,0,:].numpy()  \n",
    "\n",
    "Эта конструкция рабочая? Жалуется на память.  \n",
    "Нет ли более красивого решения, чем то что реализовано в тренажнере через for\n",
    "    \n",
    "2. В процессе работы замечена ошибка: если размер данных не кратен batch_size  \n",
    "   ошибка несоответствия длин train/target/ Попробовал исправить. В тренажере эта же ошибка \n",
    "2. Может ли БЕРТ работать с многоязычными текстами? Как определяет язык?    \n",
    "\n",
    "3. БЕРТ сам осуществляет чистку, может имеет смысл проводить вначале ручную чистку?\n",
    "</div>"
   ]
  },
  {
   "cell_type": "markdown",
   "metadata": {},
   "source": [
    "### <font color='orange'>Общее впечатление и ответы (ревью 2)</font>\n",
    "* После исправлений проект улучшился.\n",
    "* Для удобства все новые комментарии обозначены фразой \"ревью 2\".\n",
    "* Хоть и требуемое качество не достигнуто, но проект может быть зачтен, так как все упирается в вычислительные мощности. Освоить БЕРТ – большое достижение, молодец!\n",
    "* В будущем советую начинать с tfidf подхода, так как он позволяет достичь достаточно хорошего качества за короткое время.\n",
    "* Удачи в дальнейшем обучении и следующих работах!\n",
    "\n",
    "\n",
    "1. Проблемы по памяти возникают из-за того, что БЕРТ очень тяжелая модель и у нас много текстов. Например, обучить его самостоятельно вряд ли получится. Это решение вполне рабочее.\n",
    "2. Если я правильно тебя понял, то эта ошибка возникает из-за того, что если размер треина и теста не кратен размеру батча, то последний (неполный) батч мы просто удаляем. Удалить 100 текстов в нашем случае не критично, так что исправлять это не имеет смысла, но можно в последний батч добавить фиктивные тексты, а затем их удалить.\n",
    "3. Да, может. Для него это просто разные слова, ему не нужно определять язык. Если обучать его на многоязычной выборке, то у него будут представления для слов из разных языков. Вот тут больше <a href=\"https://huggingface.co/bert-base-multilingual-cased\">информации</a>.\n",
    "4. Зависит от реализации БЕРТа, надо подробнее читать в документации. Некоторые предобученные модели требует определенной подготовки. Например, кто-то может решить обрезать все слова длиннее 10 символов при обучении и тебе нужно об этом знать перед применением этой модели. Обычно это указывают в документации."
   ]
  },
  {
   "cell_type": "markdown",
   "metadata": {
    "id": "9EJ6myXIE85I"
   },
   "source": [
    "Данные  при  параметрах по умолчанию\n",
    "\n",
    "\n",
    "LGBMClassifier___________все данные________ограниченные         \n",
    "F1 обучающей выборки---_____ 0.75______________1,00  \n",
    "F1 тестовой выборки:----_______0.67_______________0,64  \n",
    "\n",
    "LinearSVC    \n",
    "F1 обучающей выборки:----_____ 0.73_____________ 0,99  \n",
    "F1 тестовой выборки:-----______0.72_____________0,57   \n",
    "  \n",
    "LogisticRegression    \n",
    "F1 обучающей выборки:-----_____ 0.73______________0,94  \n",
    "F1 тестовой выборки: -----____ 0.73______________0,66"
   ]
  },
  {
   "cell_type": "markdown",
   "metadata": {
    "id": "Kmr1XIo7UT1g"
   },
   "source": [
    "# Проект для «Викишоп» с BERT \n",
    "# GPU\n",
    "\n",
    "Интернет-магазин «Викишоп» запускает новый сервис. Теперь пользователи могут редактировать и дополнять описания товаров, как в вики-сообществах. То есть клиенты предлагают свои правки и комментируют изменения других. Магазину нужен инструмент, который будет искать токсичные комментарии и отправлять их на модерацию. \n",
    "\n",
    "Обучите модель классифицировать комментарии на позитивные и негативные. В вашем распоряжении набор данных с разметкой о токсичности правок.\n",
    "\n",
    "Постройте модель со значением метрики качества *F1* не меньше 0.75. \n",
    "\n",
    "**Инструкция по выполнению проекта**\n",
    "\n",
    "1. Загрузите и подготовьте данные.\n",
    "2. Обучите разные модели. \n",
    "3. Сделайте выводы.\n",
    "\n",
    "Для выполнения проекта применять *BERT* необязательно, но вы можете попробовать.\n",
    "\n",
    "**Описание данных**\n",
    "\n",
    "Данные находятся в файле `toxic_comments.csv`. Столбец *text* в нём содержит текст комментария, а *toxic* — целевой признак."
   ]
  },
  {
   "cell_type": "code",
   "execution_count": null,
   "metadata": {
    "colab": {
     "base_uri": "https://localhost:8080/"
    },
    "id": "f6F8A9TpUT1t",
    "outputId": "90bd73af-91b9-4208-dff6-36b9d28af9c0"
   },
   "outputs": [],
   "source": [
    "!pip install transformers\n",
    "#!pip install torch"
   ]
  },
  {
   "cell_type": "code",
   "execution_count": null,
   "metadata": {
    "id": "Q0O-JlXXUT1v"
   },
   "outputs": [],
   "source": [
    "import pandas as pd\n",
    "import numpy as np\n",
    "import seaborn as sns\n",
    "import matplotlib.pyplot as plt\n",
    "\n",
    "import torch\n",
    "import transformers"
   ]
  },
  {
   "cell_type": "code",
   "execution_count": null,
   "metadata": {
    "id": "ckZ49ZQJUT1x"
   },
   "outputs": [],
   "source": [
    "from sklearn.model_selection import train_test_split\n",
    "from sklearn.ensemble import RandomForestClassifier\n",
    "from sklearn.tree import DecisionTreeClassifier\n",
    "\n",
    "from sklearn.linear_model import LogisticRegression, SGDClassifier\n",
    "from sklearn.svm import LinearSVC\n",
    "\n",
    "from lightgbm import LGBMClassifier\n",
    "\n",
    "from sklearn.dummy import DummyClassifier\n",
    "from nltk.stem import SnowballStemmer\n",
    "\n",
    "from sklearn.utils import shuffle\n",
    "from sklearn.metrics import f1_score, confusion_matrix, recall_score, precision_score"
   ]
  },
  {
   "cell_type": "code",
   "execution_count": null,
   "metadata": {
    "id": "xO8JnVFaUT1y"
   },
   "outputs": [],
   "source": [
    "import warnings\n",
    "warnings.simplefilter(\"ignore\")\n",
    "\n",
    "from tqdm import notebook\n",
    "notebook.tqdm.pandas()"
   ]
  },
  {
   "cell_type": "code",
   "execution_count": null,
   "metadata": {
    "colab": {
     "base_uri": "https://localhost:8080/"
    },
    "id": "v1Z3k8gbV5EP",
    "outputId": "0a113639-ce6d-4967-ac36-4b49a3af393e"
   },
   "outputs": [],
   "source": [
    "def get_device():\n",
    "    # Если в системе есть GPU ...\n",
    "    if torch.cuda.is_available():\n",
    "        # Тогда говорим PyTorch использовать GPU.\n",
    "        device = torch.device(\"cuda\")\n",
    "        print('There are %d GPU(s) available.' % torch.cuda.device_count())\n",
    "        print('We will use the GPU:', torch.cuda.get_device_name(0))\n",
    "    # Если нет GPU, то считаем на обычном процессоре ...\n",
    "    else:\n",
    "        print('No GPU available, using the CPU instead.')\n",
    "        device = torch.device(\"cpu\")\n",
    "    return device\n",
    "\n",
    "\n",
    "device = get_device()"
   ]
  },
  {
   "cell_type": "markdown",
   "metadata": {
    "id": "iubANZlfXAzx"
   },
   "source": [
    "<div class=\"alert alert-block alert-success\">\n",
    "<b>Успех:</b> Радует, что ты не забываешь, что все импорты лучше собирать в верхней части ноутбука! \n",
    "</div>"
   ]
  },
  {
   "cell_type": "markdown",
   "metadata": {
    "id": "d61FLsQzUT1z"
   },
   "source": [
    "## Подготовка"
   ]
  },
  {
   "cell_type": "markdown",
   "metadata": {
    "id": "KtyTShX2UT1z"
   },
   "source": [
    "###  Анализ данных"
   ]
  },
  {
   "cell_type": "code",
   "execution_count": null,
   "metadata": {
    "id": "9EYsWvf7UT12"
   },
   "outputs": [],
   "source": [
    "try:\n",
    "    df_open = pd.read_csv('toxic_comments.csv')\n",
    "except:\n",
    "    try:\n",
    "        df_open = pd.read_csv('/datasets/toxic_comments.csv')\n",
    "    except:\n",
    "        df_open = pd.read_csv('https://code.s3.yandex.net/datasets/toxic_comments.csv')"
   ]
  },
  {
   "cell_type": "code",
   "execution_count": null,
   "metadata": {
    "colab": {
     "base_uri": "https://localhost:8080/",
     "height": 696
    },
    "id": "ccFCX7TIUT12",
    "outputId": "18879b60-d1ee-45d2-fcb8-7bf1d504cc9f"
   },
   "outputs": [
    {
     "data": {},
     "metadata": {
      "tags": []
     },
     "output_type": "display_data"
    },
    {
     "data": {
      "application/vnd.google.colaboratory.intrinsic+json": {
       "type": "string"
      }
     },
     "metadata": {
      "tags": []
     },
     "output_type": "display_data"
    },
    {
     "data": {},
     "metadata": {
      "tags": []
     },
     "output_type": "display_data"
    },
    {
     "data": {
      "application/vnd.google.colaboratory.intrinsic+json": {
       "type": "string"
      }
     },
     "metadata": {
      "tags": []
     },
     "output_type": "display_data"
    },
    {
     "data": {},
     "metadata": {
      "tags": []
     },
     "output_type": "display_data"
    },
    {
     "data": {},
     "metadata": {
      "tags": []
     },
     "output_type": "display_data"
    },
    {
     "data": {},
     "metadata": {
      "tags": []
     },
     "output_type": "display_data"
    }
   ],
   "source": [
    "display(df_open.info())\n",
    "display('Количество NaN', df_open.isnull().sum())\n",
    "display('Дупликаты', df_open.duplicated().sum())\n",
    "display(df_open.describe().T)\n",
    "display(df_open.head(10))\n"
   ]
  },
  {
   "cell_type": "markdown",
   "metadata": {
    "id": "U0McMGd5XAz0"
   },
   "source": [
    "<div class=\"alert alert-block alert-success\">\n",
    "<b>Успех:</b> Загрузка и первичный осмотр данных проведены хорошо.\n",
    "</div>"
   ]
  },
  {
   "cell_type": "code",
   "execution_count": null,
   "metadata": {
    "colab": {
     "base_uri": "https://localhost:8080/",
     "height": 296
    },
    "id": "nNtGQdexUT14",
    "outputId": "01e1b4c3-b705-49d6-f6bf-0392ed790ce6"
   },
   "outputs": [
    {
     "data": {},
     "execution_count": 8,
     "metadata": {
      "tags": []
     },
     "output_type": "execute_result"
    },
    {
     "data": {
      "image/png": "[encoded data removed]"
     },
     "metadata": {
      "needs_background": "light",
      "tags": []
     },
     "output_type": "display_data"
    }
   ],
   "source": [
    "sns.countplot(df_open['toxic'])\n"
   ]
  },
  {
   "cell_type": "code",
   "execution_count": null,
   "metadata": {
    "colab": {
     "base_uri": "https://localhost:8080/",
     "height": 142
    },
    "id": "5EHeDYafUT15",
    "outputId": "636595f0-e71f-4682-c11e-cbaaea38179b"
   },
   "outputs": [
    {
     "data": {},
     "execution_count": 9,
     "metadata": {
      "tags": []
     },
     "output_type": "execute_result"
    }
   ],
   "source": [
    "df_open.groupby(['toxic']).count()"
   ]
  },
  {
   "cell_type": "markdown",
   "metadata": {
    "id": "9klMDIkRUT16"
   },
   "source": [
    "Токсичных комментариев в датасете 10%. Датасет не сбалансирован."
   ]
  },
  {
   "cell_type": "markdown",
   "metadata": {
    "id": "V8jvWVWmXAz2"
   },
   "source": [
    "<div class=\"alert alert-block alert-success\">\n",
    "<b>Успех:</b> Отлично, что ты заметил и визуализировал дисбаланс классов.\n",
    "</div>"
   ]
  },
  {
   "cell_type": "markdown",
   "metadata": {
    "id": "wBpy9TZ7UT16"
   },
   "source": [
    "### Подготовка данных"
   ]
  },
  {
   "cell_type": "markdown",
   "metadata": {
    "id": "K37xVVfXUT17"
   },
   "source": [
    "Так, как имеется ограничения в памяти, ограничиv датасет, взяв только часть наблюдений.  \n",
    "также сбалансируем классы для модели"
   ]
  },
  {
   "cell_type": "code",
   "execution_count": null,
   "metadata": {
    "id": "OxE2zyagUT17"
   },
   "outputs": [],
   "source": [
    "#______________________________________________________________UPD_______________________________________\n",
    "n_test=503\n",
    "\n",
    "df_1 = df_open[df_open['toxic'] == 1].sample(n_test*2, random_state=12345)\n",
    "df_0 = df_open[df_open['toxic'] == 0].sample(n_test*3, random_state=12345)\n",
    "\n",
    "df_train = shuffle(pd.concat([df_0] + [df_1]))\n",
    "df_open.drop(df_train.index, inplace = True)\n",
    "\n",
    "df_test =df_open.sample(n_test, random_state=12345)\n",
    "\n",
    "df=pd.concat([df_train] + [df_test]).reset_index(drop=True)\n",
    "\n",
    "# "
   ]
  },
  {
   "cell_type": "code",
   "execution_count": null,
   "metadata": {
    "id": "zTQxv23b-t0u"
   },
   "outputs": [],
   "source": [
    "# df=df_open"
   ]
  },
  {
   "cell_type": "markdown",
   "metadata": {
    "id": "Hi9rWUGxXAz4"
   },
   "source": [
    "<div class=\"alert alert-block alert-warning\">\n",
    "<b>Изменения:</b> Были внесены следующие изменения создан усеченный датафрейм из изначального  \n",
    "    \n",
    "    единый train + test, train - сбалансированный в соотношении 2 к 3 и перемешенный, test - рандомный.\n",
    "    будет произведена векторизация с помощью BERT и по окончании сново разделено на train и test  \n",
    "    при параметре train_test_split (..... shuffle=False, train_size= n_test*5)\n",
    "</div>"
   ]
  },
  {
   "cell_type": "markdown",
   "metadata": {
    "id": "4GsAngqPXAz4"
   },
   "source": [
    "<div class=\"alert alert-block alert-danger\">\n",
    "<b>Ошибка:</b> Таким образом ты нарушаешь баланс классов во всей выборке, а значит метрики получатся завышенными. Напомню, что модифицировать баланс можно только в тренировочной чатси данных. В валидации(если она есть) и тесте он должен остаться неизменным.\n",
    "</div>"
   ]
  },
  {
   "cell_type": "markdown",
   "metadata": {},
   "source": [
    "<div class=\"alert alert-block alert-success\">\n",
    "<b>Успех (ревью 2):</b> Разбиение проведено корректно.\n",
    "</div>"
   ]
  },
  {
   "cell_type": "markdown",
   "metadata": {
    "id": "Nhhb5TjeUT18"
   },
   "source": [
    "### Векторизация с BERT"
   ]
  },
  {
   "cell_type": "markdown",
   "metadata": {
    "id": "B2mpHAG3UT18"
   },
   "source": [
    "импортируем токенизатор для BERT'а, который превратит наши тексты в набор токенов, соответствующих тем, что встречаются в словаре предобученной модели."
   ]
  },
  {
   "cell_type": "code",
   "execution_count": null,
   "metadata": {
    "id": "8cJYB85KUT18"
   },
   "outputs": [],
   "source": [
    "tokenizer = transformers.BertTokenizer.from_pretrained('bert-base-uncased')\n",
    "model = transformers.BertModel.from_pretrained('bert-base-uncased')"
   ]
  },
  {
   "cell_type": "code",
   "execution_count": null,
   "metadata": {
    "id": "ia0yALWPUT19"
   },
   "outputs": [],
   "source": [
    "tokenized = df['text'].apply(lambda x: tokenizer.encode(x[:512], add_special_tokens=True))"
   ]
  },
  {
   "cell_type": "markdown",
   "metadata": {
    "id": "ki0LkALYXAz6"
   },
   "source": [
    "<div class=\"alert alert-block alert-success\">\n",
    "<b>Успех:</b> Отлично, что ты разобрался с тем, что тексты нужно обрезать.\n",
    "</div>"
   ]
  },
  {
   "cell_type": "code",
   "execution_count": null,
   "metadata": {
    "id": "x7uQQ4KbUT19"
   },
   "outputs": [],
   "source": [
    "# максимальное кол-во токенов в предложении\n",
    "max_len = max(map(len, tokenized)) \n"
   ]
  },
  {
   "cell_type": "code",
   "execution_count": null,
   "metadata": {
    "id": "HKLhi03IUT19"
   },
   "outputs": [],
   "source": [
    "#добавляем 0 для строк, у которых длина меньше максимальной\n",
    "padded = np.array([i + [0]*(max_len - len(i)) for i in tokenized.values]) \n",
    "# создаем маску, чтобы выделить значимые токены\n",
    "attention_mask = np.where(padded != 0, 1, 0)"
   ]
  },
  {
   "cell_type": "code",
   "execution_count": null,
   "metadata": {
    "colab": {
     "base_uri": "https://localhost:8080/",
     "height": 66,
     "referenced_widgets": [
      "ab75919557424859a97f2aee0e6638bd",
      "9f97003d2d344661890f58850e21618e",
      "765200fb75374b5d9d1022d78b6ea268",
      "342f2726eaf5431c9c66924a18b61163",
      "672a9665c5e64ede8f1b43cd1365378c",
      "d9fb49197b2b41ff9ffddebc4e106a57",
      "2a8c0b82c773467d85eaaed5bb0fed17",
      "fb54e86aae4141b1b2dc87fa793b8755"
     ]
    },
    "id": "P2AX8BujUT1-",
    "outputId": "ce08139a-305f-4147-9515-d97a192be0e1"
   },
   "outputs": [
    {
     "data": {
      "application/vnd.jupyter.widget-view+json": {
       "model_id": "ab75919557424859a97f2aee0e6638bd",
       "version_major": 2,
       "version_minor": 0
      }
     },
     "metadata": {
      "tags": []
     },
     "output_type": "display_data"
    }
   ],
   "source": [
    "model = model.cuda()\n",
    "batch_size = 200 #определяем размер батча для обработки BERT-ом\n",
    "embeddings = []\n",
    "for i in notebook.tqdm(range(padded.shape[0] // batch_size)):\n",
    "        batch = torch.cuda.LongTensor(padded[batch_size*i:batch_size*(i+1)]) \n",
    "        attention_mask_batch = torch.cuda.LongTensor(attention_mask[batch_size*i:batch_size*(i+1)])\n",
    "        \n",
    "        with torch.no_grad():\n",
    "            batch_embeddings = model(batch, attention_mask=attention_mask_batch)\n",
    "        \n",
    "        embeddings.append(batch_embeddings[0][:,0,:].cpu().numpy())\n",
    "\n",
    "#------------------------------------ЗАПЛАТКА---------------------------------------------------------\n",
    "\n",
    "\n",
    "#  досчитываем остаток от разницы длины df и \n",
    "# padded.shape[0] // batch_size, - не учитывает остаток от деления\n",
    "\n",
    "batch = torch.cuda.LongTensor(padded[batch_size*(i+1): padded.shape[0]]) \n",
    "attention_mask_batch = torch.cuda.LongTensor(attention_mask[batch_size*(i+1): padded.shape[0]])\n",
    "        \n",
    "with torch.no_grad():\n",
    "        batch_embeddings = model(batch, attention_mask=attention_mask_batch)\n",
    "        \n",
    "embeddings.append(batch_embeddings[0][:,0,:].cpu().numpy())\n",
    "#________________________________________________________________________________________________________\n"
   ]
  },
  {
   "cell_type": "code",
   "execution_count": null,
   "metadata": {
    "id": "Eug4Ef3wUT1-"
   },
   "outputs": [],
   "source": [
    "#полученные эмбеддинги будут нашими признаками для обучения модели\n",
    "features = np.concatenate(embeddings) \n",
    "target = df['toxic']"
   ]
  },
  {
   "cell_type": "markdown",
   "metadata": {
    "id": "pyCMPL6nXAz8"
   },
   "source": [
    "<div class=\"alert alert-block alert-success\">\n",
    "<b>Успех:</b> Молодец, что разобрался с тем, как векторизовать тексты с помощью БЕРТа.\n",
    "</div>"
   ]
  },
  {
   "cell_type": "code",
   "execution_count": null,
   "metadata": {
    "id": "W-i4fE-VUT1_"
   },
   "outputs": [],
   "source": [
    "#______________________________________________________________UPD_______________________________________\n",
    "# разбиваем на обучающую и тестовую выборки\n",
    "features_train, features_test, target_train, target_test = (\n",
    "    train_test_split(features, target, shuffle=False, train_size= n_test*5))\n",
    "\n"
   ]
  },
  {
   "cell_type": "code",
   "execution_count": null,
   "metadata": {
    "id": "RV8cgT7u-VCJ"
   },
   "outputs": [],
   "source": [
    "# разбиваем на обучающую и тестовую выборки\n",
    "#features_train, features_test, target_train, target_test = train_test_split(features, target, random_state = 12345, test_size= 0.2)\n",
    "\n"
   ]
  },
  {
   "cell_type": "markdown",
   "metadata": {
    "id": "mvSG6bNBUT2A"
   },
   "source": [
    "## Обучение"
   ]
  },
  {
   "cell_type": "code",
   "execution_count": null,
   "metadata": {
    "id": "wzJ5jP6apQXP"
   },
   "outputs": [],
   "source": []
  },
  {
   "cell_type": "code",
   "execution_count": null,
   "metadata": {
    "colab": {
     "base_uri": "https://localhost:8080/"
    },
    "id": "lG5M3LTOUT2B",
    "outputId": "ca11a91e-009a-4efe-e0f5-413651229b21"
   },
   "outputs": [],
   "source": [
    "#обучим модель логистической регрессии на эмбеддингах\n",
    "model_lr = LogisticRegression(solver='liblinear', random_state=12345)\n",
    "model_lr.fit(features_train, target_train)\n",
    "\n",
    "pred_train_lr = model_lr.predict(features_train)\n",
    "pred_test_lr = model_lr.predict(features_test)\n",
    "\n",
    "print('LogisticRegression')\n",
    "print('F1 обучающей выборки: {:.2f}'.format(f1_score(target_train, pred_train_lr)))\n",
    "print('F1 тестовой выборки: {:.2f}'.format(f1_score(target_test, pred_test_lr)))"
   ]
  },
  {
   "cell_type": "code",
   "execution_count": null,
   "metadata": {
    "colab": {
     "base_uri": "https://localhost:8080/"
    },
    "id": "00wxBLdRUT2C",
    "outputId": "af4ce3b6-9193-4a3c-990a-3947c1ccad77"
   },
   "outputs": [],
   "source": [
    "model_svc = LinearSVC(random_state=12345)\n",
    "model_svc.fit(features_train, target_train)\n",
    "\n",
    "\n",
    "pred_train_svc = model_svc.predict(features_train)\n",
    "pred_test_svc = model_svc.predict(features_test)\n",
    "\n",
    "print('LinearSVC')\n",
    "print('F1 обучающей выборки: {:.2f}'.format(f1_score(target_train, pred_train_svc)))\n",
    "print('F1 тестовой выборки: {:.2f}'.format(f1_score(target_test, pred_test_svc)))"
   ]
  },
  {
   "cell_type": "code",
   "execution_count": null,
   "metadata": {
    "colab": {
     "base_uri": "https://localhost:8080/"
    },
    "id": "X9tT1G-YUT2D",
    "outputId": "d746ec35-d45e-482e-ea99-f4ae9c17a549"
   },
   "outputs": [],
   "source": [
    "from lightgbm import LGBMClassifier\n",
    "\n",
    "model_lgmc = LGBMClassifier(random_state=12345)\n",
    "\n",
    "model_lgmc.fit(features_train, target_train)\n",
    "\n",
    "pred_train_lgmc = model_lgmc.predict(features_train)\n",
    "pred_test_lgmc = model_lgmc.predict(features_test)\n",
    "\n",
    "print('LGBMClassifier')\n",
    "print('F1 обучающей выборки: {:.2f}'.format(f1_score(target_train, pred_train_lgmc)))\n",
    "print('F1 тестовой выборки: {:.2f}'.format(f1_score(target_test, pred_test_lgmc)))\n",
    "        \n",
    "  "
   ]
  },
  {
   "cell_type": "code",
   "execution_count": null,
   "metadata": {
    "colab": {
     "base_uri": "https://localhost:8080/"
    },
    "id": "qAqMDR0qib1y",
    "outputId": "e892fe34-f38e-43d0-a8ba-7d871e34289f"
   },
   "outputs": [],
   "source": [
    "lg = LogisticRegression(max_iter=200)\n",
    "\n",
    "parameters = {'C': np.linspace(0.0001, 100, 20)}\n",
    "from sklearn.model_selection import GridSearchCV\n",
    "from sklearn.metrics import f1_score\n",
    "lg_grid = GridSearchCV(estimator=lg, param_grid=parameters, cv=5)\n",
    "lg_grid.fit(features_train, target_train)\n",
    "\n",
    "\n",
    "print('Лучшие параметры:', lg_grid.best_params_)\n",
    "\n",
    "model_lr = LogisticRegression(C=5.263252631578947, solver='liblinear', random_state=12345)\n",
    "model_lr.fit(features_train, target_train)\n",
    "\n",
    "pred_train_lr = model_lr.predict(features_train)\n",
    "pred_test_lr = model_lr.predict(features_test)\n",
    "\n",
    "print('LogisticRegression')\n",
    "print('F1 обучающей выборки: {:.2f}'.format(f1_score(target_train, pred_train_lr)))\n",
    "print('F1 тестовой выборки: {:.2f}'.format(f1_score(target_test, pred_test_lr)))"
   ]
  },
  {
   "cell_type": "markdown",
   "metadata": {
    "id": "5jwlCKk3XA0E"
   },
   "source": [
    "<div class=\"alert alert-block alert-success\">\n",
    "<b>Успех:</b> Приятно видеть, что ты попробовал несколько разных моделей.\n",
    "</div>"
   ]
  },
  {
   "cell_type": "markdown",
   "metadata": {
    "id": "MXTd-NaiUT2E"
   },
   "source": [
    "## Выводы"
   ]
  },
  {
   "cell_type": "markdown",
   "metadata": {
    "id": "jP6qBNtnE3v7"
   },
   "source": []
  },
  {
   "cell_type": "markdown",
   "metadata": {
    "id": "PYgCnPZmmCJ3"
   },
   "source": [
    "Мы обучили 3 модели с настройками по умолчанию.Выводы следующие:\n",
    " При использовании BERT \n",
    "Лучшей по метрикам F1 оказалась \"LinearSVC\" модель, которая при настройках по умолчанию показала F1 - 0.86  \n",
    "Две другие модели показали похожие метрики F1, что лучше порогового 0,75"
   ]
  },
  {
   "cell_type": "markdown",
   "metadata": {
    "id": "3_XPFCbdlb5T"
   },
   "source": [
    "<div class=\"alert alert-block alert-info\">\n",
    "<b>Совет: </b> Финальный вывод можно было сделать чуть подробнее. Например, сказать про дисбаланс. \n",
    "    <br><br>Модель для векторизации называется BERT.\n",
    "</div>"
   ]
  },
  {
   "cell_type": "markdown",
   "metadata": {
    "id": "03D1dpK0UT2F"
   },
   "source": [
    "## Чек-лист проверки"
   ]
  },
  {
   "cell_type": "markdown",
   "metadata": {
    "id": "qpDVn1tFUT2G"
   },
   "source": [
    "- [x]  Jupyter Notebook открыт\n",
    "- [x]  Весь код выполняется без ошибок\n",
    "- [x]  Ячейки с кодом расположены в порядке исполнения\n",
    "- [x]  Данные загружены и подготовлены\n",
    "- [x]  Модели обучены\n",
    "- [x]  Значение метрики *F1* не меньше 0.75\n",
    "- [x]  Выводы написаны"
   ]
  }
 ],
 "metadata": {
  "accelerator": "GPU",
  "colab": {
   "collapsed_sections": [],
   "name": "text_teach.ipynb\"",
   "provenance": []
  },
  "kernelspec": {
   "display_name": "Python 3",
   "language": "python",
   "name": "python3"
  },
  "language_info": {
   "codemirror_mode": {
    "name": "ipython",
    "version": 3
   },
   "file_extension": ".py",
   "mimetype": "text/x-python",
   "name": "python",
   "nbconvert_exporter": "python",
   "pygments_lexer": "ipython3",
   "version": "3.7.8"
  },
  "toc": {
   "base_numbering": 1,
   "nav_menu": {},
   "number_sections": true,
   "sideBar": true,
   "skip_h1_title": false,
   "title_cell": "Table of Contents",
   "title_sidebar": "Contents",
   "toc_cell": false,
   "toc_position": {},
   "toc_section_display": true,
   "toc_window_display": false
  },
  "widgets": {
   "application/vnd.jupyter.widget-state+json": {
    "2a8c0b82c773467d85eaaed5bb0fed17": {
     "model_module": "@jupyter-widgets/controls",
     "model_name": "DescriptionStyleModel",
     "state": {
      "_model_module": "@jupyter-widgets/controls",
      "_model_module_version": "1.5.0",
      "_model_name": "DescriptionStyleModel",
      "_view_count": null,
      "_view_module": "@jupyter-widgets/base",
      "_view_module_version": "1.2.0",
      "_view_name": "StyleView",
      "description_width": ""
     }
    },
    "342f2726eaf5431c9c66924a18b61163": {
     "model_module": "@jupyter-widgets/controls",
     "model_name": "HTMLModel",
     "state": {
      "_dom_classes": [],
      "_model_module": "@jupyter-widgets/controls",
      "_model_module_version": "1.5.0",
      "_model_name": "HTMLModel",
      "_view_count": null,
      "_view_module": "@jupyter-widgets/controls",
      "_view_module_version": "1.5.0",
      "_view_name": "HTMLView",
      "description": "",
      "description_tooltip": null,
      "layout": "IPY_MODEL_fb54e86aae4141b1b2dc87fa793b8755",
      "placeholder": "​",
      "style": "IPY_MODEL_2a8c0b82c773467d85eaaed5bb0fed17",
      "value": " 15/15 [00:52&lt;00:00,  3.47s/it]"
     }
    },
    "672a9665c5e64ede8f1b43cd1365378c": {
     "model_module": "@jupyter-widgets/controls",
     "model_name": "ProgressStyleModel",
     "state": {
      "_model_module": "@jupyter-widgets/controls",
      "_model_module_version": "1.5.0",
      "_model_name": "ProgressStyleModel",
      "_view_count": null,
      "_view_module": "@jupyter-widgets/base",
      "_view_module_version": "1.2.0",
      "_view_name": "StyleView",
      "bar_color": null,
      "description_width": "initial"
     }
    },
    "765200fb75374b5d9d1022d78b6ea268": {
     "model_module": "@jupyter-widgets/controls",
     "model_name": "FloatProgressModel",
     "state": {
      "_dom_classes": [],
      "_model_module": "@jupyter-widgets/controls",
      "_model_module_version": "1.5.0",
      "_model_name": "FloatProgressModel",
      "_view_count": null,
      "_view_module": "@jupyter-widgets/controls",
      "_view_module_version": "1.5.0",
      "_view_name": "ProgressView",
      "bar_style": "success",
      "description": "100%",
      "description_tooltip": null,
      "layout": "IPY_MODEL_d9fb49197b2b41ff9ffddebc4e106a57",
      "max": 15,
      "min": 0,
      "orientation": "horizontal",
      "style": "IPY_MODEL_672a9665c5e64ede8f1b43cd1365378c",
      "value": 15
     }
    },
    "9f97003d2d344661890f58850e21618e": {
     "model_module": "@jupyter-widgets/base",
     "model_name": "LayoutModel",
     "state": {
      "_model_module": "@jupyter-widgets/base",
      "_model_module_version": "1.2.0",
      "_model_name": "LayoutModel",
      "_view_count": null,
      "_view_module": "@jupyter-widgets/base",
      "_view_module_version": "1.2.0",
      "_view_name": "LayoutView",
      "align_content": null,
      "align_items": null,
      "align_self": null,
      "border": null,
      "bottom": null,
      "display": null,
      "flex": null,
      "flex_flow": null,
      "grid_area": null,
      "grid_auto_columns": null,
      "grid_auto_flow": null,
      "grid_auto_rows": null,
      "grid_column": null,
      "grid_gap": null,
      "grid_row": null,
      "grid_template_areas": null,
      "grid_template_columns": null,
      "grid_template_rows": null,
      "height": null,
      "justify_content": null,
      "justify_items": null,
      "left": null,
      "margin": null,
      "max_height": null,
      "max_width": null,
      "min_height": null,
      "min_width": null,
      "object_fit": null,
      "object_position": null,
      "order": null,
      "overflow": null,
      "overflow_x": null,
      "overflow_y": null,
      "padding": null,
      "right": null,
      "top": null,
      "visibility": null,
      "width": null
     }
    },
    "ab75919557424859a97f2aee0e6638bd": {
     "model_module": "@jupyter-widgets/controls",
     "model_name": "HBoxModel",
     "state": {
      "_dom_classes": [],
      "_model_module": "@jupyter-widgets/controls",
      "_model_module_version": "1.5.0",
      "_model_name": "HBoxModel",
      "_view_count": null,
      "_view_module": "@jupyter-widgets/controls",
      "_view_module_version": "1.5.0",
      "_view_name": "HBoxView",
      "box_style": "",
      "children": [
       "IPY_MODEL_765200fb75374b5d9d1022d78b6ea268",
       "IPY_MODEL_342f2726eaf5431c9c66924a18b61163"
      ],
      "layout": "IPY_MODEL_9f97003d2d344661890f58850e21618e"
     }
    },
    "d9fb49197b2b41ff9ffddebc4e106a57": {
     "model_module": "@jupyter-widgets/base",
     "model_name": "LayoutModel",
     "state": {
      "_model_module": "@jupyter-widgets/base",
      "_model_module_version": "1.2.0",
      "_model_name": "LayoutModel",
      "_view_count": null,
      "_view_module": "@jupyter-widgets/base",
      "_view_module_version": "1.2.0",
      "_view_name": "LayoutView",
      "align_content": null,
      "align_items": null,
      "align_self": null,
      "border": null,
      "bottom": null,
      "display": null,
      "flex": null,
      "flex_flow": null,
      "grid_area": null,
      "grid_auto_columns": null,
      "grid_auto_flow": null,
      "grid_auto_rows": null,
      "grid_column": null,
      "grid_gap": null,
      "grid_row": null,
      "grid_template_areas": null,
      "grid_template_columns": null,
      "grid_template_rows": null,
      "height": null,
      "justify_content": null,
      "justify_items": null,
      "left": null,
      "margin": null,
      "max_height": null,
      "max_width": null,
      "min_height": null,
      "min_width": null,
      "object_fit": null,
      "object_position": null,
      "order": null,
      "overflow": null,
      "overflow_x": null,
      "overflow_y": null,
      "padding": null,
      "right": null,
      "top": null,
      "visibility": null,
      "width": null
     }
    },
    "fb54e86aae4141b1b2dc87fa793b8755": {
     "model_module": "@jupyter-widgets/base",
     "model_name": "LayoutModel",
     "state": {
      "_model_module": "@jupyter-widgets/base",
      "_model_module_version": "1.2.0",
      "_model_name": "LayoutModel",
      "_view_count": null,
      "_view_module": "@jupyter-widgets/base",
      "_view_module_version": "1.2.0",
      "_view_name": "LayoutView",
      "align_content": null,
      "align_items": null,
      "align_self": null,
      "border": null,
      "bottom": null,
      "display": null,
      "flex": null,
      "flex_flow": null,
      "grid_area": null,
      "grid_auto_columns": null,
      "grid_auto_flow": null,
      "grid_auto_rows": null,
      "grid_column": null,
      "grid_gap": null,
      "grid_row": null,
      "grid_template_areas": null,
      "grid_template_columns": null,
      "grid_template_rows": null,
      "height": null,
      "justify_content": null,
      "justify_items": null,
      "left": null,
      "margin": null,
      "max_height": null,
      "max_width": null,
      "min_height": null,
      "min_width": null,
      "object_fit": null,
      "object_position": null,
      "order": null,
      "overflow": null,
      "overflow_x": null,
      "overflow_y": null,
      "padding": null,
      "right": null,
      "top": null,
      "visibility": null,
      "width": null
     }
    }
   }
  }
 },
 "nbformat": 4,
 "nbformat_minor": 1
}
